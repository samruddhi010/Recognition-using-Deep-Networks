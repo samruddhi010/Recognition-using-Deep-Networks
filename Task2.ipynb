{
  "nbformat": 4,
  "nbformat_minor": 0,
  "metadata": {
    "colab": {
      "name": "Task2.ipynb",
      "provenance": [],
      "authorship_tag": "ABX9TyNieeF6PeWzqbBOaorjZHYK",
      "include_colab_link": true
    },
    "kernelspec": {
      "name": "python3",
      "display_name": "Python 3"
    },
    "language_info": {
      "name": "python"
    }
  },
  "cells": [
    {
      "cell_type": "markdown",
      "metadata": {
        "id": "view-in-github",
        "colab_type": "text"
      },
      "source": [
        "<a href=\"https://colab.research.google.com/github/Pheonix10101/PRCV_p_5/blob/main/Task2.ipynb\" target=\"_parent\"><img src=\"https://colab.research.google.com/assets/colab-badge.svg\" alt=\"Open In Colab\"/></a>"
      ]
    },
    {
      "cell_type": "code",
      "execution_count": null,
      "metadata": {
        "id": "Mrd5YS_fu3m4"
      },
      "outputs": [],
      "source": [
        "\"\"\"\n",
        "Project 5: Recognition using Deep Networks\n",
        "\n",
        "Author: Samruddhi Raut\n",
        "\n",
        "This file contain following tasks\n",
        "Task 2:To examine the network and analyze how it processes the data.\n",
        "\n",
        "A.Analyze the first layer\n",
        "\n",
        "B.Show the effect of the filters\n",
        "\n",
        "C.Build a truncated model\n",
        "\"\"\"\n",
        "\n",
        "import torch\n",
        "import cv2\n",
        "import torch.nn.functional as F\n",
        "from matplotlib import pyplot as plt\n",
        "import CNN"
      ]
    },
    {
      "cell_type": "markdown",
      "source": [
        "**Defining Submodel**"
      ],
      "metadata": {
        "id": "YEcxzQZ8Lcya"
      }
    },
    {
      "cell_type": "code",
      "source": [
        "class Submodel(CNN.NeuralNetwork):\n",
        "    def __init__(self):\n",
        "        super().__init__()\n",
        "\n",
        "    # override the forward method\n",
        "    def forward(self, x):\n",
        "        x = F.relu(F.max_pool2d(self.conv1(x), 2))  # relu on max pooled results of conv1\n",
        "        x = F.relu(F.max_pool2d(self.conv2_drop(self.conv2(x)), 2))  # relu on max pooled results of dropout of conv2\n",
        "        return x"
      ],
      "metadata": {
        "id": "itvvxEDhvpYn"
      },
      "execution_count": null,
      "outputs": []
    },
    {
      "cell_type": "markdown",
      "source": [
        "**Defining show_filters**"
      ],
      "metadata": {
        "id": "GHqsz8E8Ll26"
      }
    },
    {
      "cell_type": "code",
      "source": [
        "def show_filters(loaded_net):\n",
        "    \"\"\"\n",
        "    Show the 10 filters used in the 1st convolutional layers\n",
        "    :return weights of the layer\n",
        "    \"\"\"\n",
        "    print(\"Shape of weights: \", end = \"\")\n",
        "    print(loaded_net.conv1.weight.shape)\n",
        "    fig = plt.figure()\n",
        "    for i in range(10):\n",
        "        plt.subplot(3, 4, i + 1)\n",
        "        plt.tight_layout()\n",
        "        plt.imshow(loaded_net.conv1.weight[i][0].detach().numpy(), interpolation = 'none')\n",
        "        plt.title(\"Filter %d:\" % i)\n",
        "        plt.xticks([])\n",
        "        plt.yticks([])\n",
        "    fig.show()\n",
        "\n",
        "    return loaded_net.conv1.weight"
      ],
      "metadata": {
        "id": "TtUnG9cgvzDl"
      },
      "execution_count": null,
      "outputs": []
    },
    {
      "cell_type": "markdown",
      "source": [
        "**DEfining show filter effects**"
      ],
      "metadata": {
        "id": "OWniUlpnLqHy"
      }
    },
    {
      "cell_type": "code",
      "source": [
        "def show_filter_effects(weights):\n",
        "    \"\"\"\n",
        "    Show the effect of the filters\n",
        "    :param weights: weights of a layer\n",
        "    \"\"\"\n",
        "    with torch.no_grad():\n",
        "        train_loader, test_loader = CNN.read_and_print(CNN.BATCH_SIZE_TRAIN,\n",
        "                                                               CNN.BATCH_SIZE_TEST,\n",
        "                                                               False)\n",
        "        idx, (data, target) = next(enumerate(test_loader))\n",
        "        img = data[0][0].detach().numpy()\n",
        "        fig = plt.figure()\n",
        "        for i in range(20):\n",
        "            plt.subplot(5, 4, i + 1)\n",
        "            plt.tight_layout()\n",
        "            if (i % 2) == 0:\n",
        "                plt.imshow(weights[i // 2][0].detach().numpy(), cmap = 'gray', interpolation = 'none')\n",
        "            else:\n",
        "                dst = cv2.filter2D(img, -1, kernel = weights[(i - 1) // 2][0].detach().numpy())\n",
        "                plt.imshow(dst, cmap = 'gray', interpolation = 'none')\n",
        "            plt.xticks([])\n",
        "            plt.yticks([])\n",
        "        fig.show()\n",
        "\n",
        "        return train_loader, test_loader"
      ],
      "metadata": {
        "id": "x56Fnf6Tv07D"
      },
      "execution_count": null,
      "outputs": []
    },
    {
      "cell_type": "markdown",
      "source": [
        "**Define Truncation**"
      ],
      "metadata": {
        "id": "uiOEJRxbLus7"
      }
    },
    {
      "cell_type": "code",
      "source": [
        "def truncate(loaded_net, test_loader):\n",
        "    \"\"\"\n",
        "    Show the output of the submodel\n",
        "    :param loaded_net: loaded network\n",
        "    :param test_loader: dataloader of the loaded network\n",
        "    \"\"\"\n",
        "    # set model to evalution mode\n",
        "    loaded_net.eval()\n",
        "    extracted_example = []\n",
        "    extracted_target = []\n",
        "\n",
        "    truncated_model = Submodel()\n",
        "    truncated_model.eval()\n",
        "\n",
        "    idx, (data, target) = next(enumerate(test_loader))\n",
        "    extracted_example.append(data[0])\n",
        "    extracted_target.append(target[0])\n",
        "\n",
        "    example = torch.stack(extracted_example)\n",
        "    print(\"Input.shape: \", end = \"\")\n",
        "    print(example.shape)\n",
        "\n",
        "    with torch.no_grad():\n",
        "        output = truncated_model(example)\n",
        "        print(\"Output shape: \", end = \"\")\n",
        "        print(output.shape)\n",
        "\n",
        "    fig = plt.figure()\n",
        "    for i in range(20):\n",
        "        plt.subplot(5, 4, i + 1)\n",
        "        plt.tight_layout()\n",
        "        plt.imshow(output[0][i].detach().numpy(), cmap = 'gray', interpolation = 'none')\n",
        "        plt.title(\"Node %d:\" % i)\n",
        "        plt.xticks([])\n",
        "        plt.yticks([])\n",
        "    fig.show()"
      ],
      "metadata": {
        "id": "nxHo0o5Nv9lT"
      },
      "execution_count": null,
      "outputs": []
    },
    {
      "cell_type": "markdown",
      "source": [
        "**Defining Main function**"
      ],
      "metadata": {
        "id": "R0J9OehbL0E7"
      }
    },
    {
      "cell_type": "code",
      "source": [
        "def main():\n",
        "    # load the model from file\n",
        "    loaded_net = CNN.NeuralNetwork()\n",
        "    loaded_net_state_dict = torch.load('samruddhi_neural.pt')\n",
        "    loaded_net.load_state_dict(loaded_net_state_dict)\n",
        "\n",
        "    weights = show_filters(loaded_net)\n",
        "    train_loader, test_loader = show_filter_effects(weights)\n",
        "    truncate(loaded_net, test_loader)\n",
        "\n",
        "\n",
        "if __name__ == \"__main__\":\n",
        "    main()"
      ],
      "metadata": {
        "colab": {
          "base_uri": "https://localhost:8080/",
          "height": 925
        },
        "id": "wYZBLxt6wA1I",
        "outputId": "a8a44408-ea3b-4102-c4b6-abb76d5a5948"
      },
      "execution_count": null,
      "outputs": [
        {
          "output_type": "stream",
          "name": "stdout",
          "text": [
            "Shape of weights: torch.Size([10, 1, 5, 5])\n"
          ]
        },
        {
          "output_type": "stream",
          "name": "stderr",
          "text": [
            "/usr/local/lib/python3.7/dist-packages/torch/utils/data/dataloader.py:481: UserWarning: This DataLoader will create 4 worker processes in total. Our suggested max number of worker in current system is 2, which is smaller than what this DataLoader is going to create. Please be aware that excessive worker creation might get DataLoader running slow or even freeze, lower the worker number to avoid potential slowness/freeze if necessary.\n",
            "  cpuset_checked))\n"
          ]
        },
        {
          "output_type": "stream",
          "name": "stdout",
          "text": [
            "Input.shape: torch.Size([1, 1, 28, 28])\n",
            "Output shape: torch.Size([1, 20, 4, 4])\n"
          ]
        },
        {
          "output_type": "display_data",
          "data": {
            "text/plain": [
              "<Figure size 432x288 with 10 Axes>"
            ],
            "image/png": "[encoded data removed]"
          },
          "metadata": {}
        },
        {
          "output_type": "display_data",
          "data": {
            "text/plain": [
              "<Figure size 432x288 with 20 Axes>"
            ],
            "image/png": "[encoded data removed]"
          },
          "metadata": {}
        },
        {
          "output_type": "display_data",
          "data": {
            "text/plain": [
              "<Figure size 432x288 with 20 Axes>"
            ],
            "image/png": "[encoded data removed]"
          },
          "metadata": {}
        }
      ]
    }
  ]
}